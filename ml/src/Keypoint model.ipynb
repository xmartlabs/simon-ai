{
 "cells": [
  {
   "cell_type": "markdown",
   "id": "20d8c976-288b-46ae-83e7-a23a3d56e299",
   "metadata": {},
   "source": [
    "# Classification model"
   ]
  },
  {
   "cell_type": "code",
   "execution_count": null,
   "id": "8abfb07a-c81d-42d6-b8fb-d837608304ef",
   "metadata": {},
   "outputs": [],
   "source": [
    "from models.keypoint_classification_model import KeypointClassificationModel"
   ]
  },
  {
   "cell_type": "markdown",
   "id": "a266829d-6ae1-4ae9-a41a-5adca350b4d7",
   "metadata": {},
   "source": [
    "## Load data, build and compile model"
   ]
  },
  {
   "cell_type": "code",
   "execution_count": null,
   "id": "045497c5-7fa0-48e3-b002-ac169ce316da",
   "metadata": {},
   "outputs": [],
   "source": [
    "model = KeypointClassificationModel(batch_size=32)\n",
    "#model.load_dataset('../datasets/keypoints.csv')\n",
    "model.load_dataset_new('../datasets/keypoints.csv')\n",
    "model.build_model()\n",
    "model.compile()"
   ]
  },
  {
   "cell_type": "markdown",
   "id": "b7d87a91-878b-4bf9-b693-0038943a9313",
   "metadata": {},
   "source": [
    "## Train model"
   ]
  },
  {
   "cell_type": "code",
   "execution_count": null,
   "id": "afba7d4e-c9dd-4dbc-aa8e-434b770f4463",
   "metadata": {},
   "outputs": [],
   "source": [
    "#model.fit(epochs=10)\n",
    "model.fit(epochs=1)"
   ]
  },
  {
   "cell_type": "code",
   "execution_count": null,
   "metadata": {},
   "outputs": [],
   "source": [
    "for i, batch in enumerate(model.train_batches):\n",
    "    features, labels = batch\n",
    "    print(i, len(batch), len(features), len(labels), len(batch[0]), len(batch[1]))\n",
    "    print(i, batch[0]['x_0'])\n",
    "    print(i, batch[0]['x_1'])\n",
    "    print(i, batch[1])\n",
    "    #break\n"
   ]
  }
 ],
 "metadata": {
  "kernelspec": {
   "display_name": "Python 3 (ipykernel)",
   "language": "python",
   "name": "python3"
  },
  "language_info": {
   "codemirror_mode": {
    "name": "ipython",
    "version": 3
   },
   "file_extension": ".py",
   "mimetype": "text/x-python",
   "name": "python",
   "nbconvert_exporter": "python",
   "pygments_lexer": "ipython3",
   "version": "3.12.2"
  }
 },
 "nbformat": 4,
 "nbformat_minor": 5
}
