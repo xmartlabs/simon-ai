{
 "cells": [
  {
   "cell_type": "code",
   "execution_count": 9,
   "id": "8abfb07a-c81d-42d6-b8fb-d837608304ef",
   "metadata": {},
   "outputs": [],
   "source": [
    "import mediapipe as mp\n",
    "from mediapipe.tasks import python\n",
    "from mediapipe.tasks.python import vision\n",
    "import numpy as np\n",
    "from numpy import savetxt\n",
    "import tensorflow as tf\n",
    "import matplotlib.pyplot as plt\n",
    "import pandas as pd\n",
    "\n",
    "#Allow charts and graphics to display right below the page of browser setup\n",
    "%matplotlib inline\n",
    "\n",
    "\n",
    "from trackers.clearml_tracker import ClearMLTracker\n",
    "from utils import draw_landmarks_on_image\n",
    "from keypoint_generator import KeypointGenerator\n",
    "from models.keypoint_classification_model import KeypointClassificationModel\n"
   ]
  },
  {
   "cell_type": "markdown",
   "id": "3a7410f2-9adf-4b18-b8ca-31c30cbd2293",
   "metadata": {},
   "source": [
    "# Init experiment tracker"
   ]
  },
  {
   "cell_type": "code",
   "execution_count": 2,
   "id": "0ce268c3-a4cb-4db7-83f1-32c71def4e05",
   "metadata": {},
   "outputs": [
    {
     "name": "stdout",
     "output_type": "stream",
     "text": [
      "ClearML Task: created new task id=b1e669e36f1842c8bd91e8856883c20f\n",
      "2024-05-08 19:47:14,844 - clearml.Task - INFO - Storing jupyter notebook directly as code\n",
      "ClearML results page: http://localhost:8080/projects/bdb64a8e846b4be894e53d959e32fa01/experiments/b1e669e36f1842c8bd91e8856883c20f/output/log\n"
     ]
    },
    {
     "name": "stderr",
     "output_type": "stream",
     "text": [
      "/usr/local/lib/python3.11/dist-packages/clearml/utilities/process/mp.py:622: RuntimeWarning:\n",
      "\n",
      "os.fork() was called. os.fork() is incompatible with multithreaded code, and JAX is multithreaded, so this will likely lead to a deadlock.\n",
      "\n"
     ]
    },
    {
     "name": "stdout",
     "output_type": "stream",
     "text": [
      "ClearML Monitor: GPU monitoring failed getting GPU reading, switching off GPU monitoring\n"
     ]
    }
   ],
   "source": [
    "tracker = ClearMLTracker(\"simon-ai\", f\"default\")"
   ]
  },
  {
   "cell_type": "markdown",
   "id": "9ab26f53-bf8f-4f5d-b4a5-81064b2372e2",
   "metadata": {},
   "source": [
    "# Generate keypoints"
   ]
  },
  {
   "cell_type": "markdown",
   "id": "c559ff70-74ad-4801-8dae-b2f9bc58b2ae",
   "metadata": {},
   "source": [
    "## Test keypoints"
   ]
  },
  {
   "cell_type": "code",
   "execution_count": null,
   "id": "48c9857f-33e7-483a-905a-4e1560279979",
   "metadata": {},
   "outputs": [],
   "source": [
    "base_options = python.BaseOptions(model_asset_path='hand_landmarker.task')\n",
    "                                       num_hands=1)\n",
    "detector = vision.HandLandmarker.create_from_options(options)\n",
    "\n",
    "image = mp.Image.create_from_file('../datasets/asl_alphabet_train/L/L1.jpg')\n",
    "\n",
    "detection_result = detector.detect(image)\n",
    "\n",
    "annotated_image = draw_landmarks_on_image(image.numpy_view(), detection_result)\n",
    "plt.imshow(annotated_image)\n"
   ]
  },
  {
   "cell_type": "markdown",
   "id": "296bef30-94eb-4e26-bf0e-9be15794db68",
   "metadata": {},
   "source": [
    "## Create keypoints for the entire dataset"
   ]
  },
  {
   "cell_type": "code",
   "execution_count": null,
   "id": "1f6fa115-9c1c-4afa-88e1-44c8690c0b50",
   "metadata": {},
   "outputs": [],
   "source": [
    "generator = KeypointGenerator('hand_landmarker.task')\n",
    "generator.generate_keypoints('../datasets/keypoints.csv')"
   ]
  },
  {
   "cell_type": "markdown",
   "id": "20d8c976-288b-46ae-83e7-a23a3d56e299",
   "metadata": {},
   "source": [
    "# Classification model"
   ]
  },
  {
   "cell_type": "markdown",
   "id": "a266829d-6ae1-4ae9-a41a-5adca350b4d7",
   "metadata": {},
   "source": [
    "## Load data"
   ]
  },
  {
   "cell_type": "code",
   "execution_count": 3,
   "id": "045497c5-7fa0-48e3-b002-ac169ce316da",
   "metadata": {},
   "outputs": [],
   "source": [
    "model = KeypointClassificationModel(batch_size=32, tracker=tracker)"
   ]
  },
  {
   "cell_type": "code",
   "execution_count": 4,
   "id": "b1629dfb-ae3b-42bc-8962-a60fe4f6802b",
   "metadata": {},
   "outputs": [],
   "source": [
    "model.load_dataset('../datasets/keypoints.csv')"
   ]
  },
  {
   "cell_type": "markdown",
   "id": "937b36b1-a975-4419-9406-acf290756bb0",
   "metadata": {},
   "source": [
    "## Build model"
   ]
  },
  {
   "cell_type": "code",
   "execution_count": 5,
   "id": "14d3c49e-ffca-43be-939f-ee5237f313a3",
   "metadata": {},
   "outputs": [],
   "source": [
    "model.build_model()"
   ]
  },
  {
   "cell_type": "markdown",
   "id": "1ff3da1f-28bc-4eb8-b4e7-4a02eb857518",
   "metadata": {},
   "source": [
    "## Compile model"
   ]
  },
  {
   "cell_type": "code",
   "execution_count": 8,
   "id": "c77e7e9f-e1da-454b-b9d5-2dab6ed14d6f",
   "metadata": {},
   "outputs": [
    {
     "name": "stdout",
     "output_type": "stream",
     "text": [
      "2024-05-08 19:49:31,716 - clearml.storage - ERROR - Exception encountered while uploading ('Connection aborted.', ConnectionResetError(104, 'Connection reset by peer'))\n"
     ]
    }
   ],
   "source": [
    "model.compile()"
   ]
  },
  {
   "cell_type": "markdown",
   "id": "b7d87a91-878b-4bf9-b693-0038943a9313",
   "metadata": {},
   "source": [
    "## Train model"
   ]
  },
  {
   "cell_type": "code",
   "execution_count": 10,
   "id": "afba7d4e-c9dd-4dbc-aa8e-434b770f4463",
   "metadata": {},
   "outputs": [
    {
     "name": "stdout",
     "output_type": "stream",
     "text": [
      "Epoch 1/10\n"
     ]
    },
    {
     "ename": "KeyError",
     "evalue": "\"Exception encountered when calling Sequential.call().\\n\\n\\x1b[1minput_layer\\x1b[0m\\n\\nArguments received by Sequential.call():\\n  • inputs=OrderedDict([('x_0', 'tf.Tensor(shape=(None,), dtype=float32)'), ('x_1', 'tf.Tensor(shape=(None,), dtype=float32)'), ('x_2', 'tf.Tensor(shape=(None,), dtype=float32)'), ('x_3', 'tf.Tensor(shape=(None,), dtype=float32)'), ('x_4', 'tf.Tensor(shape=(None,), dtype=float32)'), ('x_5', 'tf.Tensor(shape=(None,), dtype=float32)'), ('x_6', 'tf.Tensor(shape=(None,), dtype=float32)'), ('x_7', 'tf.Tensor(shape=(None,), dtype=float32)'), ('x_8', 'tf.Tensor(shape=(None,), dtype=float32)'), ('x_9', 'tf.Tensor(shape=(None,), dtype=float32)'), ('x_10', 'tf.Tensor(shape=(None,), dtype=float32)'), ('x_11', 'tf.Tensor(shape=(None,), dtype=float32)'), ('x_12', 'tf.Tensor(shape=(None,), dtype=float32)'), ('x_13', 'tf.Tensor(shape=(None,), dtype=float32)'), ('x_14', 'tf.Tensor(shape=(None,), dtype=float32)'), ('x_15', 'tf.Tensor(shape=(None,), dtype=float32)'), ('x_16', 'tf.Tensor(shape=(None,), dtype=float32)'), ('x_17', 'tf.Tensor(shape=(None,), dtype=float32)'), ('x_18', 'tf.Tensor(shape=(None,), dtype=float32)'), ('x_19', 'tf.Tensor(shape=(None,), dtype=float32)'), ('x_20', 'tf.Tensor(shape=(None,), dtype=float32)'), ('x_21', 'tf.Tensor(shape=(None,), dtype=float32)'), ('x_22', 'tf.Tensor(shape=(None,), dtype=float32)'), ('x_23', 'tf.Tensor(shape=(None,), dtype=float32)'), ('x_24', 'tf.Tensor(shape=(None,), dtype=float32)'), ('x_25', 'tf.Tensor(shape=(None,), dtype=float32)'), ('x_26', 'tf.Tensor(shape=(None,), dtype=float32)'), ('x_27', 'tf.Tensor(shape=(None,), dtype=float32)'), ('x_28', 'tf.Tensor(shape=(None,), dtype=float32)'), ('x_29', 'tf.Tensor(shape=(None,), dtype=float32)'), ('x_30', 'tf.Tensor(shape=(None,), dtype=float32)'), ('x_31', 'tf.Tensor(shape=(None,), dtype=float32)'), ('x_32', 'tf.Tensor(shape=(None,), dtype=float32)'), ('x_33', 'tf.Tensor(shape=(None,), dtype=float32)'), ('x_34', 'tf.Tensor(shape=(None,), dtype=float32)'), ('x_35', 'tf.Tensor(shape=(None,), dtype=float32)'), ('x_36', 'tf.Tensor(shape=(None,), dtype=float32)'), ('x_37', 'tf.Tensor(shape=(None,), dtype=float32)'), ('x_38', 'tf.Tensor(shape=(None,), dtype=float32)'), ('x_39', 'tf.Tensor(shape=(None,), dtype=float32)'), ('x_40', 'tf.Tensor(shape=(None,), dtype=float32)'), ('x_41', 'tf.Tensor(shape=(None,), dtype=float32)'), ('x_42', 'tf.Tensor(shape=(None,), dtype=float32)'), ('x_43', 'tf.Tensor(shape=(None,), dtype=float32)'), ('x_44', 'tf.Tensor(shape=(None,), dtype=float32)'), ('x_45', 'tf.Tensor(shape=(None,), dtype=float32)'), ('x_46', 'tf.Tensor(shape=(None,), dtype=float32)'), ('x_47', 'tf.Tensor(shape=(None,), dtype=float32)'), ('x_48', 'tf.Tensor(shape=(None,), dtype=float32)'), ('x_49', 'tf.Tensor(shape=(None,), dtype=float32)'), ('x_50', 'tf.Tensor(shape=(None,), dtype=float32)'), ('x_51', 'tf.Tensor(shape=(None,), dtype=float32)'), ('x_52', 'tf.Tensor(shape=(None,), dtype=float32)'), ('x_53', 'tf.Tensor(shape=(None,), dtype=float32)'), ('x_54', 'tf.Tensor(shape=(None,), dtype=float32)'), ('x_55', 'tf.Tensor(shape=(None,), dtype=float32)'), ('x_56', 'tf.Tensor(shape=(None,), dtype=float32)'), ('x_57', 'tf.Tensor(shape=(None,), dtype=float32)'), ('x_58', 'tf.Tensor(shape=(None,), dtype=float32)'), ('x_59', 'tf.Tensor(shape=(None,), dtype=float32)'), ('x_60', 'tf.Tensor(shape=(None,), dtype=float32)'), ('x_61', 'tf.Tensor(shape=(None,), dtype=float32)'), ('x_62', 'tf.Tensor(shape=(None,), dtype=float32)')])\\n  • training=True\\n  • mask=OrderedDict([('x_0', 'None'), ('x_1', 'None'), ('x_2', 'None'), ('x_3', 'None'), ('x_4', 'None'), ('x_5', 'None'), ('x_6', 'None'), ('x_7', 'None'), ('x_8', 'None'), ('x_9', 'None'), ('x_10', 'None'), ('x_11', 'None'), ('x_12', 'None'), ('x_13', 'None'), ('x_14', 'None'), ('x_15', 'None'), ('x_16', 'None'), ('x_17', 'None'), ('x_18', 'None'), ('x_19', 'None'), ('x_20', 'None'), ('x_21', 'None'), ('x_22', 'None'), ('x_23', 'None'), ('x_24', 'None'), ('x_25', 'None'), ('x_26', 'None'), ('x_27', 'None'), ('x_28', 'None'), ('x_29', 'None'), ('x_30', 'None'), ('x_31', 'None'), ('x_32', 'None'), ('x_33', 'None'), ('x_34', 'None'), ('x_35', 'None'), ('x_36', 'None'), ('x_37', 'None'), ('x_38', 'None'), ('x_39', 'None'), ('x_40', 'None'), ('x_41', 'None'), ('x_42', 'None'), ('x_43', 'None'), ('x_44', 'None'), ('x_45', 'None'), ('x_46', 'None'), ('x_47', 'None'), ('x_48', 'None'), ('x_49', 'None'), ('x_50', 'None'), ('x_51', 'None'), ('x_52', 'None'), ('x_53', 'None'), ('x_54', 'None'), ('x_55', 'None'), ('x_56', 'None'), ('x_57', 'None'), ('x_58', 'None'), ('x_59', 'None'), ('x_60', 'None'), ('x_61', 'None'), ('x_62', 'None')])\"",
     "output_type": "error",
     "traceback": [
      "\u001b[0;31m---------------------------------------------------------------------------\u001b[0m",
      "\u001b[0;31mKeyError\u001b[0m                                  Traceback (most recent call last)",
      "Cell \u001b[0;32mIn[10], line 1\u001b[0m\n\u001b[0;32m----> 1\u001b[0m \u001b[43mmodel\u001b[49m\u001b[38;5;241;43m.\u001b[39;49m\u001b[43mfit\u001b[49m\u001b[43m(\u001b[49m\u001b[43mepochs\u001b[49m\u001b[38;5;241;43m=\u001b[39;49m\u001b[38;5;241;43m10\u001b[39;49m\u001b[43m)\u001b[49m\n",
      "File \u001b[0;32m~app/src/models/keypoint_classification_model.py:45\u001b[0m, in \u001b[0;36mKeypointClassificationModel.fit\u001b[0;34m(self, epochs)\u001b[0m\n\u001b[1;32m     44\u001b[0m \u001b[38;5;28;01mdef\u001b[39;00m \u001b[38;5;21mfit\u001b[39m(\u001b[38;5;28mself\u001b[39m, epochs\u001b[38;5;241m=\u001b[39m\u001b[38;5;241m10\u001b[39m):\n\u001b[0;32m---> 45\u001b[0m     \u001b[38;5;28;01mreturn\u001b[39;00m \u001b[38;5;28;43mself\u001b[39;49m\u001b[38;5;241;43m.\u001b[39;49m\u001b[43mmodel\u001b[49m\u001b[38;5;241;43m.\u001b[39;49m\u001b[43mfit\u001b[49m\u001b[43m(\u001b[49m\u001b[38;5;28;43mself\u001b[39;49m\u001b[38;5;241;43m.\u001b[39;49m\u001b[43mtrain_batches\u001b[49m\u001b[43m,\u001b[49m\n\u001b[1;32m     46\u001b[0m \u001b[43m                          \u001b[49m\u001b[43mepochs\u001b[49m\u001b[38;5;241;43m=\u001b[39;49m\u001b[43mepochs\u001b[49m\u001b[43m,\u001b[49m\n\u001b[1;32m     47\u001b[0m \u001b[43m                          \u001b[49m\u001b[43mvalidation_data\u001b[49m\u001b[38;5;241;43m=\u001b[39;49m\u001b[38;5;28;43mself\u001b[39;49m\u001b[38;5;241;43m.\u001b[39;49m\u001b[43mvalid_batches\u001b[49m\u001b[43m)\u001b[49m\n",
      "File \u001b[0;32m~usr/local/lib/python3.11/dist-packages/keras/src/utils/traceback_utils.py:122\u001b[0m, in \u001b[0;36mfilter_traceback.<locals>.error_handler\u001b[0;34m(*args, **kwargs)\u001b[0m\n\u001b[1;32m    119\u001b[0m     filtered_tb \u001b[38;5;241m=\u001b[39m _process_traceback_frames(e\u001b[38;5;241m.\u001b[39m__traceback__)\n\u001b[1;32m    120\u001b[0m     \u001b[38;5;66;03m# To get the full stack trace, call:\u001b[39;00m\n\u001b[1;32m    121\u001b[0m     \u001b[38;5;66;03m# `keras.config.disable_traceback_filtering()`\u001b[39;00m\n\u001b[0;32m--> 122\u001b[0m     \u001b[38;5;28;01mraise\u001b[39;00m e\u001b[38;5;241m.\u001b[39mwith_traceback(filtered_tb) \u001b[38;5;28;01mfrom\u001b[39;00m \u001b[38;5;28;01mNone\u001b[39;00m\n\u001b[1;32m    123\u001b[0m \u001b[38;5;28;01mfinally\u001b[39;00m:\n\u001b[1;32m    124\u001b[0m     \u001b[38;5;28;01mdel\u001b[39;00m filtered_tb\n",
      "File \u001b[0;32m~usr/local/lib/python3.11/dist-packages/keras/src/models/functional.py:259\u001b[0m, in \u001b[0;36m<listcomp>\u001b[0;34m(.0)\u001b[0m\n\u001b[1;32m    250\u001b[0m         warnings\u001b[38;5;241m.\u001b[39mwarn(\n\u001b[1;32m    251\u001b[0m             \u001b[38;5;124m\"\u001b[39m\u001b[38;5;124mInput dict contained keys \u001b[39m\u001b[38;5;132;01m{}\u001b[39;00m\u001b[38;5;124m which did not match any \u001b[39m\u001b[38;5;124m\"\u001b[39m\n\u001b[1;32m    252\u001b[0m             \u001b[38;5;124m\"\u001b[39m\u001b[38;5;124mmodel input. They will be ignored by the model.\u001b[39m\u001b[38;5;124m\"\u001b[39m\u001b[38;5;241m.\u001b[39mformat(\n\u001b[0;32m   (...)\u001b[0m\n\u001b[1;32m    255\u001b[0m             stacklevel\u001b[38;5;241m=\u001b[39m\u001b[38;5;241m2\u001b[39m,\n\u001b[1;32m    256\u001b[0m         )\n\u001b[1;32m    257\u001b[0m     \u001b[38;5;66;03m# Flatten in the order `Input`s were passed during Model\u001b[39;00m\n\u001b[1;32m    258\u001b[0m     \u001b[38;5;66;03m# construction.\u001b[39;00m\n\u001b[0;32m--> 259\u001b[0m     \u001b[38;5;28;01mreturn\u001b[39;00m [\u001b[43minputs\u001b[49m\u001b[43m[\u001b[49m\u001b[43mn\u001b[49m\u001b[43m]\u001b[49m \u001b[38;5;28;01mfor\u001b[39;00m n \u001b[38;5;129;01min\u001b[39;00m ref_input_names]\n\u001b[1;32m    260\u001b[0m \u001b[38;5;66;03m# Otherwise both ref inputs and inputs will already be in same order.\u001b[39;00m\n\u001b[1;32m    261\u001b[0m \u001b[38;5;28;01mreturn\u001b[39;00m tree\u001b[38;5;241m.\u001b[39mflatten(inputs)\n",
      "\u001b[0;31mKeyError\u001b[0m: \"Exception encountered when calling Sequential.call().\\n\\n\\x1b[1minput_layer\\x1b[0m\\n\\nArguments received by Sequential.call():\\n  • inputs=OrderedDict([('x_0', 'tf.Tensor(shape=(None,), dtype=float32)'), ('x_1', 'tf.Tensor(shape=(None,), dtype=float32)'), ('x_2', 'tf.Tensor(shape=(None,), dtype=float32)'), ('x_3', 'tf.Tensor(shape=(None,), dtype=float32)'), ('x_4', 'tf.Tensor(shape=(None,), dtype=float32)'), ('x_5', 'tf.Tensor(shape=(None,), dtype=float32)'), ('x_6', 'tf.Tensor(shape=(None,), dtype=float32)'), ('x_7', 'tf.Tensor(shape=(None,), dtype=float32)'), ('x_8', 'tf.Tensor(shape=(None,), dtype=float32)'), ('x_9', 'tf.Tensor(shape=(None,), dtype=float32)'), ('x_10', 'tf.Tensor(shape=(None,), dtype=float32)'), ('x_11', 'tf.Tensor(shape=(None,), dtype=float32)'), ('x_12', 'tf.Tensor(shape=(None,), dtype=float32)'), ('x_13', 'tf.Tensor(shape=(None,), dtype=float32)'), ('x_14', 'tf.Tensor(shape=(None,), dtype=float32)'), ('x_15', 'tf.Tensor(shape=(None,), dtype=float32)'), ('x_16', 'tf.Tensor(shape=(None,), dtype=float32)'), ('x_17', 'tf.Tensor(shape=(None,), dtype=float32)'), ('x_18', 'tf.Tensor(shape=(None,), dtype=float32)'), ('x_19', 'tf.Tensor(shape=(None,), dtype=float32)'), ('x_20', 'tf.Tensor(shape=(None,), dtype=float32)'), ('x_21', 'tf.Tensor(shape=(None,), dtype=float32)'), ('x_22', 'tf.Tensor(shape=(None,), dtype=float32)'), ('x_23', 'tf.Tensor(shape=(None,), dtype=float32)'), ('x_24', 'tf.Tensor(shape=(None,), dtype=float32)'), ('x_25', 'tf.Tensor(shape=(None,), dtype=float32)'), ('x_26', 'tf.Tensor(shape=(None,), dtype=float32)'), ('x_27', 'tf.Tensor(shape=(None,), dtype=float32)'), ('x_28', 'tf.Tensor(shape=(None,), dtype=float32)'), ('x_29', 'tf.Tensor(shape=(None,), dtype=float32)'), ('x_30', 'tf.Tensor(shape=(None,), dtype=float32)'), ('x_31', 'tf.Tensor(shape=(None,), dtype=float32)'), ('x_32', 'tf.Tensor(shape=(None,), dtype=float32)'), ('x_33', 'tf.Tensor(shape=(None,), dtype=float32)'), ('x_34', 'tf.Tensor(shape=(None,), dtype=float32)'), ('x_35', 'tf.Tensor(shape=(None,), dtype=float32)'), ('x_36', 'tf.Tensor(shape=(None,), dtype=float32)'), ('x_37', 'tf.Tensor(shape=(None,), dtype=float32)'), ('x_38', 'tf.Tensor(shape=(None,), dtype=float32)'), ('x_39', 'tf.Tensor(shape=(None,), dtype=float32)'), ('x_40', 'tf.Tensor(shape=(None,), dtype=float32)'), ('x_41', 'tf.Tensor(shape=(None,), dtype=float32)'), ('x_42', 'tf.Tensor(shape=(None,), dtype=float32)'), ('x_43', 'tf.Tensor(shape=(None,), dtype=float32)'), ('x_44', 'tf.Tensor(shape=(None,), dtype=float32)'), ('x_45', 'tf.Tensor(shape=(None,), dtype=float32)'), ('x_46', 'tf.Tensor(shape=(None,), dtype=float32)'), ('x_47', 'tf.Tensor(shape=(None,), dtype=float32)'), ('x_48', 'tf.Tensor(shape=(None,), dtype=float32)'), ('x_49', 'tf.Tensor(shape=(None,), dtype=float32)'), ('x_50', 'tf.Tensor(shape=(None,), dtype=float32)'), ('x_51', 'tf.Tensor(shape=(None,), dtype=float32)'), ('x_52', 'tf.Tensor(shape=(None,), dtype=float32)'), ('x_53', 'tf.Tensor(shape=(None,), dtype=float32)'), ('x_54', 'tf.Tensor(shape=(None,), dtype=float32)'), ('x_55', 'tf.Tensor(shape=(None,), dtype=float32)'), ('x_56', 'tf.Tensor(shape=(None,), dtype=float32)'), ('x_57', 'tf.Tensor(shape=(None,), dtype=float32)'), ('x_58', 'tf.Tensor(shape=(None,), dtype=float32)'), ('x_59', 'tf.Tensor(shape=(None,), dtype=float32)'), ('x_60', 'tf.Tensor(shape=(None,), dtype=float32)'), ('x_61', 'tf.Tensor(shape=(None,), dtype=float32)'), ('x_62', 'tf.Tensor(shape=(None,), dtype=float32)')])\\n  • training=True\\n  • mask=OrderedDict([('x_0', 'None'), ('x_1', 'None'), ('x_2', 'None'), ('x_3', 'None'), ('x_4', 'None'), ('x_5', 'None'), ('x_6', 'None'), ('x_7', 'None'), ('x_8', 'None'), ('x_9', 'None'), ('x_10', 'None'), ('x_11', 'None'), ('x_12', 'None'), ('x_13', 'None'), ('x_14', 'None'), ('x_15', 'None'), ('x_16', 'None'), ('x_17', 'None'), ('x_18', 'None'), ('x_19', 'None'), ('x_20', 'None'), ('x_21', 'None'), ('x_22', 'None'), ('x_23', 'None'), ('x_24', 'None'), ('x_25', 'None'), ('x_26', 'None'), ('x_27', 'None'), ('x_28', 'None'), ('x_29', 'None'), ('x_30', 'None'), ('x_31', 'None'), ('x_32', 'None'), ('x_33', 'None'), ('x_34', 'None'), ('x_35', 'None'), ('x_36', 'None'), ('x_37', 'None'), ('x_38', 'None'), ('x_39', 'None'), ('x_40', 'None'), ('x_41', 'None'), ('x_42', 'None'), ('x_43', 'None'), ('x_44', 'None'), ('x_45', 'None'), ('x_46', 'None'), ('x_47', 'None'), ('x_48', 'None'), ('x_49', 'None'), ('x_50', 'None'), ('x_51', 'None'), ('x_52', 'None'), ('x_53', 'None'), ('x_54', 'None'), ('x_55', 'None'), ('x_56', 'None'), ('x_57', 'None'), ('x_58', 'None'), ('x_59', 'None'), ('x_60', 'None'), ('x_61', 'None'), ('x_62', 'None')])\""
     ]
    }
   ],
   "source": [
    "model.fit(epochs=10)"
   ]
  },
  {
   "cell_type": "markdown",
   "id": "1f0b9982-38f9-4ae9-bd24-8346c6200f0f",
   "metadata": {},
   "source": [
    "# Finish tracking"
   ]
  },
  {
   "cell_type": "code",
   "execution_count": 11,
   "id": "a9cbf73b-fbd8-4256-ae8d-07fbca7b18a2",
   "metadata": {},
   "outputs": [],
   "source": [
    "tracker.finish_run()"
   ]
  },
  {
   "cell_type": "code",
   "execution_count": null,
   "id": "f3a4a83e-339e-4159-8fee-c6f8ea2660b9",
   "metadata": {},
   "outputs": [],
   "source": []
  }
 ],
 "metadata": {
  "kernelspec": {
   "display_name": "Python 3 (ipykernel)",
   "language": "python",
   "name": "python3"
  },
  "language_info": {
   "codemirror_mode": {
    "name": "ipython",
    "version": 3
   },
   "file_extension": ".py",
   "mimetype": "text/x-python",
   "name": "python",
   "nbconvert_exporter": "python",
   "pygments_lexer": "ipython3",
   "version": "3.11.0rc1"
  }
 },
 "nbformat": 4,
 "nbformat_minor": 5
}
